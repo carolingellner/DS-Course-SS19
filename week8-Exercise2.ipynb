{
 "cells": [
  {
   "cell_type": "code",
   "execution_count": 405,
   "metadata": {},
   "outputs": [],
   "source": [
    "import pandas as pd\n",
    "import numpy as np\n",
    "\n",
    "\n"
   ]
  },
  {
   "cell_type": "code",
   "execution_count": 407,
   "metadata": {},
   "outputs": [],
   "source": [
    "def gini_index_criterion(x,label):\n",
    "    unique_x, counts_x = np.unique(x, return_counts=True) ##get categories in feature\n",
    "    unique_y, counts_y = np.unique(label, return_counts=True) ##get categories in label\n",
    "    weighted_list = []\n",
    "    for idx,i in enumerate(unique_x): ## enumerate through categories of feature\n",
    "        x_masked = x[(x == i) & (label == 'yes')]\n",
    "        if len(x_masked) == 0:\n",
    "            continue\n",
    "        length = counts_x[idx]\n",
    "        unique_y, counts_y = np.unique(x_masked, return_counts=True) ##count \n",
    "        cat_1 = counts_y[0] / np.sum(counts_x) ##get prob\n",
    "        gini_imp = (cat_1 ** 2) + ((1 - cat_1)**2) ##calc gini\n",
    "        weighted_list.append(gini_imp*(length/np.sum(counts_x))) ##weight gini\n",
    "    print(1 - np.sum(weighted_list))"
   ]
  },
  {
   "cell_type": "code",
   "execution_count": 408,
   "metadata": {},
   "outputs": [
    {
     "name": "stdout",
     "output_type": "stream",
     "text": [
      "0.3411078717201166\n",
      "0.3243440233236151\n",
      "0.41326530612244905\n",
      "0.4241982507288631\n"
     ]
    }
   ],
   "source": [
    "#merge to one dataframe\n",
    "df = pd.read_csv(\"C:\\\\Users\\\\carol\\\\Downloads\\\\golf.csv\",sep=',',skiprows=0,dtype=str)\n",
    "x = df.values\n",
    "temp = x[:,1]\n",
    "outlook = x[:,2]\n",
    "hum = x[:,3]\n",
    "windy = x[:,4]\n",
    "golf = x[:,5]\n",
    "\n",
    "gini_index_criterion(temp,golf)\n",
    "gini_index_criterion(outlook,golf)\n",
    "gini_index_criterion(hum,golf)\n",
    "gini_index_criterion(windy,golf)\n",
    "\n"
   ]
  },
  {
   "cell_type": "code",
   "execution_count": 409,
   "metadata": {},
   "outputs": [
    {
     "name": "stdout",
     "output_type": "stream",
     "text": [
      "[[1.0 'Mariel Finnigan' 'Mariel' 'Finnigan' 'mfinnigan0@usda.gov'\n",
      "  'Female' 60]\n",
      " [2.0 'Kenyon Possek' 'Kenyon' 'Possek' 'kpossek1@ucoz.com' 'Male' 12]\n",
      " [3.0 'Lalo Manifould' 'Lalo' 'Manifould' 'lmanifould2@pbs.org' 'Male' 26]\n",
      " [4.0 'Nickola Carous' 'Nickola' 'Carous' 'ncarous3@phoca.cz' 'Male' 4]\n",
      " [5.0 'Norman Dubbin' 'Norman' 'Dubbin' 'ndubbin4@wikipedia.org' 'Male'\n",
      "  17]\n",
      " [6.0 'Hasty Perdue' 'Hasty' 'Perdue' 'hperdue5@qq.com' 'Male' 77]\n",
      " [7.0 'Franz Castello' 'Franz' 'Castello' 'fcastello6@1688.com' 'Male' 25]\n",
      " [8.0 'Jorge Tarney' 'Jorge' 'Tarney' 'jtarney7@ft.com' 'Male' 77]\n",
      " [9.0 'Eunice Blakebrough' 'Eunice' 'Blakebrough'\n",
      "  'eblakebrough8@sohu.com' 'Female' 45]\n",
      " [10.0 'Kristopher Frankcombe' 'Kristopher' 'Frankcombe'\n",
      "  'kfrankcombe9@slate.com' 'Male' 25]\n",
      " [11.0 'Palm Domotor' 'Palm' 'Domotor' 'pdomotora@github.io' 'Male' 6]\n",
      " [12.0 'Luz Lansdowne' 'Luz' 'Lansdowne' 'llansdowneb@theguardian.com'\n",
      "  'Female' 16]\n",
      " [13.0 'Modestia Keble' 'Modestia' 'Keble' 'mkeblec@cmu.edu' 'Female' 91]\n",
      " [14.0 'Stacee Bovis' 'Stacee' 'Bovis' 'sbovisd@webeden.co.uk' 'Female'\n",
      "  22]\n",
      " [17.0 'Tobias Sherburn' 'Tobias' 'Sherburn' 'tsherburnf@facebook.com'\n",
      "  'Male' 2]\n",
      " [19.0 'Clair Skillern' 'Clair' 'Skillern' 'cskillerng@nih.gov' 'Male' 25]\n",
      " [20.0 'Mathew Addicott' 'Mathew' 'Addicott'\n",
      "  'maddicotth@acquirethisname.com' 'Male' 65]\n",
      " [21.0 'Kerianne Goacher' 'Kerianne' 'Goacher' '' 'Female' 45]\n",
      " [21.0 'Maurits Shawl' 'Maurits' 'Shawl' 'mshawlj@dmoz.org' 'Male' 72]]\n"
     ]
    }
   ],
   "source": [
    "### Start Exercise 2\n",
    "df = pd.read_csv(\"C:\\\\Users\\\\carol\\\\Desktop\\\\dataset.csv\",sep=',',skiprows=0)\n",
    "df = df.drop_duplicates(subset='full_name',keep=False) ##duplicates\n",
    "df['email'] = df['email'].fillna('')\n",
    "df['gender'] = df['gender'].fillna(method='ffill')\n",
    "df['id'] = df['id'].fillna(method='ffill')\n",
    "\n",
    "x = df.values\n",
    "for i in range(len(df.index)-1):\n",
    "    if df.iloc[i].isnull().sum() > 5:\n",
    "        x = np.delete(x, i, axis=0) ##empty lines\n",
    "\n",
    "test = np.delete(x,np.where(x[:,6] == 'old'),axis=0)\n",
    "age = int(np.median(test[:,6].astype(np.int)))\n",
    "x = np.where(x == 'old',age,x)\n",
    "x[:,6] = x[:,6].astype(int)\n",
    "x[:,6] = np.where(x[:,6] < 0, age, x[:,6])\n",
    "print(x)\n",
    "\n",
    "\n",
    "\n"
   ]
  },
  {
   "cell_type": "code",
   "execution_count": null,
   "metadata": {},
   "outputs": [],
   "source": []
  }
 ],
 "metadata": {
  "kernelspec": {
   "display_name": "Python 3",
   "language": "python",
   "name": "python3"
  },
  "language_info": {
   "codemirror_mode": {
    "name": "ipython",
    "version": 3
   },
   "file_extension": ".py",
   "mimetype": "text/x-python",
   "name": "python",
   "nbconvert_exporter": "python",
   "pygments_lexer": "ipython3",
   "version": "3.7.0"
  }
 },
 "nbformat": 4,
 "nbformat_minor": 2
}
