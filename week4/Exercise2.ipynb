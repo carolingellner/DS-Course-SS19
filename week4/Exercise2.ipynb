{
 "cells": [
  {
   "cell_type": "code",
   "execution_count": 8,
   "metadata": {},
   "outputs": [],
   "source": [
    "import pandas as pd\n",
    "import json\n",
    "import os"
   ]
  },
  {
   "cell_type": "code",
   "execution_count": 9,
   "metadata": {},
   "outputs": [],
   "source": [
    "#get all names of files in the directory\n",
    "path = \"C:/Users/carol/DataSience/data/return-data/\"\n",
    "files = ([f for f in os.listdir(path) if f.endswith('.txt')])"
   ]
  },
  {
   "cell_type": "code",
   "execution_count": 10,
   "metadata": {},
   "outputs": [],
   "source": [
    "#read files\n",
    "df_list = []\n",
    "\n",
    "for file in files:\n",
    "    with open(path+file, 'r') as f:\n",
    "        for line in f:\n",
    "            data = json.loads(line)\n",
    "            df_list.append(data)"
   ]
  },
  {
   "cell_type": "code",
   "execution_count": 11,
   "metadata": {},
   "outputs": [],
   "source": [
    "#merge to one dataframe\n",
    "dataframe = pd.DataFrame.from_dict(df_list)"
   ]
  },
  {
   "cell_type": "code",
   "execution_count": 12,
   "metadata": {},
   "outputs": [
    {
     "data": {
      "text/html": [
       "<div>\n",
       "<style scoped>\n",
       "    .dataframe tbody tr th:only-of-type {\n",
       "        vertical-align: middle;\n",
       "    }\n",
       "\n",
       "    .dataframe tbody tr th {\n",
       "        vertical-align: top;\n",
       "    }\n",
       "\n",
       "    .dataframe thead th {\n",
       "        text-align: right;\n",
       "    }\n",
       "</style>\n",
       "<table border=\"1\" class=\"dataframe\">\n",
       "  <thead>\n",
       "    <tr style=\"text-align: right;\">\n",
       "      <th></th>\n",
       "      <th>basket</th>\n",
       "      <th>returnLabel</th>\n",
       "      <th>totalAmount</th>\n",
       "      <th>transactionId</th>\n",
       "      <th>zipCode</th>\n",
       "    </tr>\n",
       "  </thead>\n",
       "  <tbody>\n",
       "    <tr>\n",
       "      <th>0</th>\n",
       "      <td>[1, 5, 5]</td>\n",
       "      <td>0</td>\n",
       "      <td>30</td>\n",
       "      <td>4098010459</td>\n",
       "      <td>4534</td>\n",
       "    </tr>\n",
       "    <tr>\n",
       "      <th>1</th>\n",
       "      <td>[2, 1, 1, 2, 2]</td>\n",
       "      <td>0</td>\n",
       "      <td>270</td>\n",
       "      <td>9956345596</td>\n",
       "      <td>5298</td>\n",
       "    </tr>\n",
       "    <tr>\n",
       "      <th>2</th>\n",
       "      <td>[5, 1, 5, 4, 4, 0, 2, 3]</td>\n",
       "      <td>0</td>\n",
       "      <td>648</td>\n",
       "      <td>3449368987</td>\n",
       "      <td>5212</td>\n",
       "    </tr>\n",
       "    <tr>\n",
       "      <th>3</th>\n",
       "      <td>[2, 2, 5, 0]</td>\n",
       "      <td>0</td>\n",
       "      <td>332</td>\n",
       "      <td>6842037467</td>\n",
       "      <td>5797</td>\n",
       "    </tr>\n",
       "    <tr>\n",
       "      <th>4</th>\n",
       "      <td>[3, 3, 3, 0, 1, 3, 4, 4]</td>\n",
       "      <td>1</td>\n",
       "      <td>440</td>\n",
       "      <td>1976894395</td>\n",
       "      <td>5432</td>\n",
       "    </tr>\n",
       "  </tbody>\n",
       "</table>\n",
       "</div>"
      ],
      "text/plain": [
       "                     basket  returnLabel  totalAmount  transactionId  zipCode\n",
       "0                 [1, 5, 5]            0           30     4098010459     4534\n",
       "1           [2, 1, 1, 2, 2]            0          270     9956345596     5298\n",
       "2  [5, 1, 5, 4, 4, 0, 2, 3]            0          648     3449368987     5212\n",
       "3              [2, 2, 5, 0]            0          332     6842037467     5797\n",
       "4  [3, 3, 3, 0, 1, 3, 4, 4]            1          440     1976894395     5432"
      ]
     },
     "execution_count": 12,
     "metadata": {},
     "output_type": "execute_result"
    }
   ],
   "source": [
    "#head() show the fist four rows\n",
    "dataframe.head()"
   ]
  }
 ],
 "metadata": {
  "kernelspec": {
   "display_name": "Python 3",
   "language": "python",
   "name": "python3"
  },
  "language_info": {
   "codemirror_mode": {
    "name": "ipython",
    "version": 3
   },
   "file_extension": ".py",
   "mimetype": "text/x-python",
   "name": "python",
   "nbconvert_exporter": "python",
   "pygments_lexer": "ipython3",
   "version": "3.7.0"
  }
 },
 "nbformat": 4,
 "nbformat_minor": 2
}
