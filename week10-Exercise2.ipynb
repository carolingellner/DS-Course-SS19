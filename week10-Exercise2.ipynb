{
 "cells": [
  {
   "cell_type": "code",
   "execution_count": 1,
   "metadata": {},
   "outputs": [
    {
     "name": "stderr",
     "output_type": "stream",
     "text": [
      "C:\\Users\\carol\\Anaconda3\\lib\\site-packages\\sklearn\\ensemble\\weight_boosting.py:29: DeprecationWarning: numpy.core.umath_tests is an internal NumPy module and should not be imported. It will be removed in a future NumPy release.\n",
      "  from numpy.core.umath_tests import inner1d\n"
     ]
    }
   ],
   "source": [
    "import pandas as pd\n",
    "import numpy as np\n",
    "from sklearn.ensemble import RandomForestClassifier\n",
    "from sklearn.metrics import roc_curve, auc\n",
    "import matplotlib.pyplot as plt\n",
    "from sklearn.model_selection import train_test_split\n",
    "from sklearn.metrics import accuracy_score\n",
    "np.random.seed(42)\n",
    "def split_dataset(csv,k=4):\n",
    "    test_idx = np.random.randint(csv.shape[0], size=num_test)\n",
    "    features_test = csv[test_idx,2:8]\n",
    "    label_test = csv[test_idx,1]\n",
    "    csv = np.delete(csv,test_idx,axis=0)\n",
    "    rows = csv.shape[0]\n",
    "    a = int(rows//k)\n",
    "    dataset_train = []\n",
    "    dataset_val = []\n",
    "    for i in range(k):\n",
    "        training_idx = np.random.randint(csv.shape[0], size=(k-1)*a)\n",
    "        test_idx = np.random.randint(csv.shape[0], size=a)\n",
    "        training, val = csv[training_idx,:], csv[test_idx,:]\n",
    "        dataset_train.append(training)\n",
    "        dataset_val.append(val)\n",
    "    return dataset_train,dataset_val,features_test,label_test\n",
    "\n",
    "\n",
    "\n",
    "num_test = 1000\n",
    "csv = pd.read_csv('C:/Users/carol/DataSience/data/data.csv',sep=',').values"
   ]
  },
  {
   "cell_type": "code",
   "execution_count": 2,
   "metadata": {},
   "outputs": [
    {
     "name": "stdout",
     "output_type": "stream",
     "text": [
      "0.7277628032345014\n"
     ]
    }
   ],
   "source": [
    "def balance_ds(csv):\n",
    "    csv_one = csv[csv[:,1] == 1]\n",
    "    csv_zero = csv[csv[:,1] == 0]\n",
    "    ones = csv_one.shape[0]\n",
    "    zeros = csv_zero.shape[0]\n",
    "    subsample = int(zeros/ones)\n",
    "    csv_zero = csv_zero[0::subsample,:]\n",
    "    new_ds = np.append(csv_zero,csv_one,axis=0)\n",
    "    return new_ds\n",
    "\n",
    "\n",
    "clf = RandomForestClassifier() \n",
    "new_csv = balance_ds(csv)\n",
    "X_train, X_test, y_train, y_test = train_test_split(new_csv[:,2:8], new_csv[:,1], test_size=0.20, random_state=42)\n",
    "clf.fit(X_train,y_train)\n",
    "pred = clf.predict(X_test)\n",
    "print(accuracy_score(y_test,pred))"
   ]
  }
 ],
 "metadata": {
  "kernelspec": {
   "display_name": "Python 3",
   "language": "python",
   "name": "python3"
  },
  "language_info": {
   "codemirror_mode": {
    "name": "ipython",
    "version": 3
   },
   "file_extension": ".py",
   "mimetype": "text/x-python",
   "name": "python",
   "nbconvert_exporter": "python",
   "pygments_lexer": "ipython3",
   "version": "3.7.0"
  }
 },
 "nbformat": 4,
 "nbformat_minor": 2
}
