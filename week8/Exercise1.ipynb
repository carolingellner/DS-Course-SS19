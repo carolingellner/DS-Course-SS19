{
 "cells": [
  {
   "cell_type": "code",
   "execution_count": 405,
   "metadata": {},
   "outputs": [],
   "source": [
    "import pandas as pd\n",
    "import numpy as np\n",
    "\n",
    "\n"
   ]
  },
  {
   "cell_type": "code",
   "execution_count": 407,
   "metadata": {},
   "outputs": [],
   "source": [
    "def gini_index_criterion(x,label):\n",
    "    unique_x, counts_x = np.unique(x, return_counts=True) ##get categories in feature\n",
    "    unique_y, counts_y = np.unique(label, return_counts=True) ##get categories in label\n",
    "    weighted_list = []\n",
    "    for idx,i in enumerate(unique_x): ## enumerate through categories of feature\n",
    "        x_masked = x[(x == i) & (label == 'yes')]\n",
    "        if len(x_masked) == 0:\n",
    "            continue\n",
    "        length = counts_x[idx]\n",
    "        unique_y, counts_y = np.unique(x_masked, return_counts=True) ##count \n",
    "        cat_1 = counts_y[0] / np.sum(counts_x) ##get prob\n",
    "        gini_imp = (cat_1 ** 2) + ((1 - cat_1)**2) ##calc gini\n",
    "        weighted_list.append(gini_imp*(length/np.sum(counts_x))) ##weight gini\n",
    "    print(1 - np.sum(weighted_list))"
   ]
  },
  {
   "cell_type": "code",
   "execution_count": 408,
   "metadata": {},
   "outputs": [
    {
     "name": "stdout",
     "output_type": "stream",
     "text": [
      "0.3411078717201166\n",
      "0.3243440233236151\n",
      "0.41326530612244905\n",
      "0.4241982507288631\n"
     ]
    }
   ],
   "source": [
    "#merge to one dataframe\n",
    "df = pd.read_csv(\"C:\\\\Users\\\\carol\\\\Downloads\\\\golf.csv\",sep=',',skiprows=0,dtype=str)\n",
    "x = df.values\n",
    "temp = x[:,1]\n",
    "outlook = x[:,2]\n",
    "hum = x[:,3]\n",
    "windy = x[:,4]\n",
    "golf = x[:,5]\n",
    "\n",
    "gini_index_criterion(temp,golf)\n",
    "gini_index_criterion(outlook,golf)\n",
    "gini_index_criterion(hum,golf)\n",
    "gini_index_criterion(windy,golf)\n",
    "\n"
   ]
  },
  {
   "cell_type": "code",
   "execution_count": null,
   "metadata": {},
   "outputs": [],
   "source": []
  }
 ],
 "metadata": {
  "kernelspec": {
   "display_name": "Python 3",
   "language": "python",
   "name": "python3"
  },
  "language_info": {
   "codemirror_mode": {
    "name": "ipython",
    "version": 3
   },
   "file_extension": ".py",
   "mimetype": "text/x-python",
   "name": "python",
   "nbconvert_exporter": "python",
   "pygments_lexer": "ipython3",
   "version": "3.7.0"
  }
 },
 "nbformat": 4,
 "nbformat_minor": 2
}
