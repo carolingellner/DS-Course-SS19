{
 "cells": [
  {
   "cell_type": "code",
   "execution_count": 1,
   "metadata": {},
   "outputs": [
    {
     "name": "stderr",
     "output_type": "stream",
     "text": [
      "C:\\Users\\carol\\Anaconda3\\lib\\site-packages\\sklearn\\ensemble\\weight_boosting.py:29: DeprecationWarning: numpy.core.umath_tests is an internal NumPy module and should not be imported. It will be removed in a future NumPy release.\n",
      "  from numpy.core.umath_tests import inner1d\n"
     ]
    }
   ],
   "source": [
    "import pandas as pd\n",
    "import os\n",
    "import json\n",
    "import time\n",
    "import numpy as np\n",
    "import matplotlib.pyplot as plt\n",
    "import seaborn as sns\n",
    "from sklearn.model_selection import train_test_split\n",
    "from sklearn.linear_model import LogisticRegression\n",
    "from sklearn.ensemble import RandomForestClassifier\n",
    "%matplotlib inline\n",
    "from sklearn.metrics import classification_report\n",
    "from sklearn.metrics import accuracy_score\n",
    "from sklearn.metrics import roc_curve\n",
    "from sklearn.metrics import roc_auc_score\n",
    "from sklearn.neighbors import KNeighborsClassifier\n",
    "from collections import Counter\n",
    "\n",
    "\n",
    "path = \"C:/Users/carol/DataSience/data/return-data/\"\n",
    "files = ([f for f in os.listdir(path) if f.endswith('.txt')])\n",
    "df_list = []\n",
    "\n",
    "for file in files:\n",
    "    with open(path+file, 'r') as f:\n",
    "        for line in f:\n",
    "            data = json.loads(line)\n",
    "            df_list.append(data)\n",
    "dataframe = pd.DataFrame.from_dict(df_list)\n",
    "count = dataframe['basket'].apply(pd.value_counts).fillna(0)\n",
    "dataframe = dataframe.join(count)\n",
    "\n",
    "\n",
    "\n"
   ]
  },
  {
   "cell_type": "code",
   "execution_count": 5,
   "metadata": {},
   "outputs": [
    {
     "name": "stdout",
     "output_type": "stream",
     "text": [
      "0.9765591397849462\n"
     ]
    },
    {
     "data": {
      "image/png": "[encoded data removed]",
      "text/plain": [
       "<Figure size 432x288 with 1 Axes>"
      ]
     },
     "metadata": {
      "needs_background": "light"
     },
     "output_type": "display_data"
    },
    {
     "name": "stdout",
     "output_type": "stream",
     "text": [
      "0.9718279569892473\n"
     ]
    },
    {
     "data": {
      "image/png": "[encoded data removed]",
      "text/plain": [
       "<Figure size 432x288 with 1 Axes>"
      ]
     },
     "metadata": {
      "needs_background": "light"
     },
     "output_type": "display_data"
    }
   ],
   "source": [
    "X_train, X_test, y_train, y_test = train_test_split(dataframe.drop(axis=1,columns=['basket','returnLabel','transactionId','zipCode']),dataframe['returnLabel'], test_size=0.30,random_state=101)\n",
    "clf = LogisticRegression()\n",
    "clf.fit(X_train,y_train)\n",
    "pred = clf.predict(X_test)\n",
    "print(clf.score(X_test,y_test))\n",
    "pred = pred.astype(int)\n",
    "y_test = y_test.values.astype(int)\n",
    "\n",
    "### EX 2\n",
    "fpr = []\n",
    "tpr = []\n",
    "P = sum(y_test)\n",
    "N = len(y_test) - P\n",
    "FP=0\n",
    "TP=0\n",
    "for i in range(len(pred)):\n",
    "    if (pred[i] > 0):\n",
    "        if y_test[i] == 1:\n",
    "            TP = TP + 1\n",
    "        if y_test[i] == 0:\n",
    "            FP = FP + 1\n",
    "        fpr.append(FP/float(N))\n",
    "        tpr.append(TP/float(P))\n",
    "      \n",
    "fpr.append(1)\n",
    "tpr.append(1)\n",
    "plt.plot(fpr, tpr)\n",
    "plt.show()\n",
    "\n",
    "#########################\n",
    "clf = RandomForestClassifier()\n",
    "clf.fit(X_train,y_train)\n",
    "pred = clf.predict(X_test)\n",
    "print(clf.score(X_test,y_test))\n",
    "pred = pred.astype(int)\n",
    "### EX 2\n",
    "fpr = []\n",
    "tpr = []\n",
    "P = sum(y_test)\n",
    "N = len(y_test) - P\n",
    "FP=0\n",
    "TP=0\n",
    "for i in range(len(pred)):\n",
    "    if (pred[i] > 0):\n",
    "        if y_test[i] == 1:\n",
    "            TP = TP + 1\n",
    "        if y_test[i] == 0:\n",
    "            FP = FP + 1\n",
    "        fpr.append(FP/float(N))\n",
    "        tpr.append(TP/float(P))\n",
    "      \n",
    "fpr.append(1)\n",
    "tpr.append(1)\n",
    "plt.plot(fpr, tpr)\n",
    "plt.show()\n"
   ]
  }
 ],
 "metadata": {
  "kernelspec": {
   "display_name": "Python 3",
   "language": "python",
   "name": "python3"
  },
  "language_info": {
   "codemirror_mode": {
    "name": "ipython",
    "version": 3
   },
   "file_extension": ".py",
   "mimetype": "text/x-python",
   "name": "python",
   "nbconvert_exporter": "python",
   "pygments_lexer": "ipython3",
   "version": "3.7.0"
  }
 },
 "nbformat": 4,
 "nbformat_minor": 2
}
