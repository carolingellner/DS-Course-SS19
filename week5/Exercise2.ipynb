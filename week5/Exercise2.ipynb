{
 "cells": [
  {
   "cell_type": "code",
   "execution_count": 69,
   "metadata": {},
   "outputs": [],
   "source": [
    "import pandas as pd\n",
    "import os\n",
    "import json\n",
    "import numpy as np\n",
    "import matplotlib.pyplot as plt\n",
    "import seaborn as sns\n",
    "from sklearn.model_selection import train_test_split\n",
    "from sklearn.linear_model import LogisticRegression\n",
    "%matplotlib inline\n",
    "from sklearn.metrics import classification_report\n",
    "from sklearn.metrics import accuracy_score"
   ]
  },
  {
   "cell_type": "code",
   "execution_count": 70,
   "metadata": {},
   "outputs": [],
   "source": [
    "#get all names of files in the directory\n",
    "path = \"C:/Users/carol/DataSience/data/return-data/\"\n",
    "files = ([f for f in os.listdir(path) if f.endswith('.txt')])"
   ]
  },
  {
   "cell_type": "code",
   "execution_count": 71,
   "metadata": {},
   "outputs": [],
   "source": [
    "#read files\n",
    "df_list = []\n",
    "\n",
    "for file in files:\n",
    "    with open(path+file, 'r') as f:\n",
    "        for line in f:\n",
    "            data = json.loads(line)\n",
    "            df_list.append(data)"
   ]
  },
  {
   "cell_type": "code",
   "execution_count": 72,
   "metadata": {},
   "outputs": [],
   "source": [
    "#merge to one dataframe\n",
    "dataframe = pd.DataFrame.from_dict(df_list)"
   ]
  },
  {
   "cell_type": "code",
   "execution_count": 73,
   "metadata": {},
   "outputs": [
    {
     "data": {
      "text/html": [
       "<div>\n",
       "<style scoped>\n",
       "    .dataframe tbody tr th:only-of-type {\n",
       "        vertical-align: middle;\n",
       "    }\n",
       "\n",
       "    .dataframe tbody tr th {\n",
       "        vertical-align: top;\n",
       "    }\n",
       "\n",
       "    .dataframe thead th {\n",
       "        text-align: right;\n",
       "    }\n",
       "</style>\n",
       "<table border=\"1\" class=\"dataframe\">\n",
       "  <thead>\n",
       "    <tr style=\"text-align: right;\">\n",
       "      <th></th>\n",
       "      <th>basket</th>\n",
       "      <th>returnLabel</th>\n",
       "      <th>totalAmount</th>\n",
       "      <th>transactionId</th>\n",
       "      <th>zipCode</th>\n",
       "    </tr>\n",
       "  </thead>\n",
       "  <tbody>\n",
       "    <tr>\n",
       "      <th>0</th>\n",
       "      <td>[1, 5, 5]</td>\n",
       "      <td>0</td>\n",
       "      <td>30</td>\n",
       "      <td>4098010459</td>\n",
       "      <td>4534</td>\n",
       "    </tr>\n",
       "    <tr>\n",
       "      <th>1</th>\n",
       "      <td>[2, 1, 1, 2, 2]</td>\n",
       "      <td>0</td>\n",
       "      <td>270</td>\n",
       "      <td>9956345596</td>\n",
       "      <td>5298</td>\n",
       "    </tr>\n",
       "    <tr>\n",
       "      <th>2</th>\n",
       "      <td>[5, 1, 5, 4, 4, 0, 2, 3]</td>\n",
       "      <td>0</td>\n",
       "      <td>648</td>\n",
       "      <td>3449368987</td>\n",
       "      <td>5212</td>\n",
       "    </tr>\n",
       "    <tr>\n",
       "      <th>3</th>\n",
       "      <td>[2, 2, 5, 0]</td>\n",
       "      <td>0</td>\n",
       "      <td>332</td>\n",
       "      <td>6842037467</td>\n",
       "      <td>5797</td>\n",
       "    </tr>\n",
       "    <tr>\n",
       "      <th>4</th>\n",
       "      <td>[3, 3, 3, 0, 1, 3, 4, 4]</td>\n",
       "      <td>1</td>\n",
       "      <td>440</td>\n",
       "      <td>1976894395</td>\n",
       "      <td>5432</td>\n",
       "    </tr>\n",
       "  </tbody>\n",
       "</table>\n",
       "</div>"
      ],
      "text/plain": [
       "                     basket  returnLabel  totalAmount  transactionId  zipCode\n",
       "0                 [1, 5, 5]            0           30     4098010459     4534\n",
       "1           [2, 1, 1, 2, 2]            0          270     9956345596     5298\n",
       "2  [5, 1, 5, 4, 4, 0, 2, 3]            0          648     3449368987     5212\n",
       "3              [2, 2, 5, 0]            0          332     6842037467     5797\n",
       "4  [3, 3, 3, 0, 1, 3, 4, 4]            1          440     1976894395     5432"
      ]
     },
     "execution_count": 73,
     "metadata": {},
     "output_type": "execute_result"
    }
   ],
   "source": [
    "#head() show the fist four rows\n",
    "dataframe.head()"
   ]
  },
  {
   "cell_type": "code",
   "execution_count": 74,
   "metadata": {
    "scrolled": false
   },
   "outputs": [
    {
     "name": "stdout",
     "output_type": "stream",
     "text": [
      "<class 'pandas.core.frame.DataFrame'>\n",
      "RangeIndex: 31000 entries, 0 to 30999\n",
      "Data columns (total 5 columns):\n",
      "basket           31000 non-null object\n",
      "returnLabel      31000 non-null int64\n",
      "totalAmount      31000 non-null int64\n",
      "transactionId    31000 non-null int64\n",
      "zipCode          31000 non-null int64\n",
      "dtypes: int64(4), object(1)\n",
      "memory usage: 1.2+ MB\n"
     ]
    }
   ],
   "source": [
    "dataframe.info()"
   ]
  },
  {
   "cell_type": "code",
   "execution_count": 75,
   "metadata": {},
   "outputs": [],
   "source": [
    "X_train, X_test, y_train, y_test = train_test_split(dataframe.drop(axis=1,columns=['basket','returnLabel','transactionId','zipCode']),dataframe['returnLabel'], test_size=0.30,random_state=101)\n"
   ]
  },
  {
   "cell_type": "code",
   "execution_count": 76,
   "metadata": {},
   "outputs": [
    {
     "name": "stdout",
     "output_type": "stream",
     "text": [
      "[0 0 0 ... 0 0 0]\n",
      "             precision    recall  f1-score   support\n",
      "\n",
      "          0       0.97      1.00      0.99      9041\n",
      "          1       0.00      0.00      0.00       259\n",
      "\n",
      "avg / total       0.95      0.97      0.96      9300\n",
      "\n",
      "Accuracy: 0.9721505376344086\n"
     ]
    },
    {
     "name": "stderr",
     "output_type": "stream",
     "text": [
      "C:\\Users\\carol\\Anaconda3\\lib\\site-packages\\sklearn\\metrics\\classification.py:1135: UndefinedMetricWarning: Precision and F-score are ill-defined and being set to 0.0 in labels with no predicted samples.\n",
      "  'precision', 'predicted', average, warn_for)\n"
     ]
    }
   ],
   "source": [
    "logmodel = LogisticRegression()\n",
    "logmodel.fit(X_train,y_train)\n",
    "predictions = logmodel.predict(X_test)\n",
    "print(predictions)\n",
    "print(classification_report(y_test,predictions))\n",
    "print(\"Accuracy:\",accuracy_score(y_test, predictions))"
   ]
  },
  {
   "cell_type": "code",
   "execution_count": 77,
   "metadata": {},
   "outputs": [
    {
     "name": "stdout",
     "output_type": "stream",
     "text": [
      "       totalAmount  1000  1001  1002  1003  1004  1005  1006  1007  1008  ...  \\\n",
      "17279           24     0     0     0     0     0     0     0     0     0  ...   \n",
      "13079          220     0     0     0     0     0     0     0     0     0  ...   \n",
      "15089           86     0     0     0     0     0     0     0     0     0  ...   \n",
      "14132          441     0     0     0     0     0     0     0     0     0  ...   \n",
      "14554           87     0     0     0     0     0     0     0     0     0  ...   \n",
      "242             41     0     0     0     0     0     0     0     0     0  ...   \n",
      "10916          420     0     0     0     0     0     0     0     0     0  ...   \n",
      "2508            84     0     0     0     0     0     0     0     0     0  ...   \n",
      "20047           70     0     0     0     0     0     0     0     0     0  ...   \n",
      "16254          171     0     0     0     0     0     0     0     0     0  ...   \n",
      "21219          324     0     0     0     0     0     0     0     0     0  ...   \n",
      "16331          332     0     0     0     0     0     0     0     0     0  ...   \n",
      "11397          234     0     0     0     0     0     0     0     0     0  ...   \n",
      "1426           406     0     0     0     0     0     0     0     0     0  ...   \n",
      "18016          462     0     0     0     0     0     0     0     0     0  ...   \n",
      "24495          224     0     0     0     0     0     0     0     0     0  ...   \n",
      "2231           246     0     0     0     0     0     0     0     0     0  ...   \n",
      "7089           156     0     0     0     0     0     0     0     0     0  ...   \n",
      "21644          156     0     0     0     0     0     0     0     0     0  ...   \n",
      "22933          132     0     0     0     0     0     0     0     0     0  ...   \n",
      "22320           77     0     0     0     0     0     0     0     0     0  ...   \n",
      "15963           98     0     0     0     0     0     0     0     0     0  ...   \n",
      "29498           36     0     0     0     0     0     0     0     0     0  ...   \n",
      "21941          296     0     0     0     0     0     0     1     0     0  ...   \n",
      "5084           165     0     0     0     0     0     0     0     0     0  ...   \n",
      "3238           140     0     0     0     0     0     0     0     0     0  ...   \n",
      "13508           33     0     0     0     0     0     0     0     0     0  ...   \n",
      "16158           86     0     0     0     0     0     0     0     0     0  ...   \n",
      "6416           408     0     0     0     0     0     0     0     0     0  ...   \n",
      "19739           30     0     0     0     0     0     0     0     0     0  ...   \n",
      "...            ...   ...   ...   ...   ...   ...   ...   ...   ...   ...  ...   \n",
      "1949           656     0     0     0     0     0     0     0     0     0  ...   \n",
      "20851          196     0     0     0     0     0     0     0     0     0  ...   \n",
      "26760           40     0     0     0     0     0     0     0     0     0  ...   \n",
      "26106          486     0     0     0     0     0     0     0     0     0  ...   \n",
      "12911           70     0     0     0     0     0     0     0     0     0  ...   \n",
      "30547          196     0     0     0     0     0     0     0     0     0  ...   \n",
      "49              28     0     0     0     0     0     0     0     0     0  ...   \n",
      "30760          192     0     0     0     0     0     0     0     0     0  ...   \n",
      "20957          558     0     0     0     0     0     0     0     0     0  ...   \n",
      "25484          252     0     0     0     0     0     0     0     0     0  ...   \n",
      "23557          366     0     0     0     0     0     0     0     0     0  ...   \n",
      "19566          300     0     0     0     0     0     0     0     0     0  ...   \n",
      "22208          336     0     0     0     0     0     0     0     0     0  ...   \n",
      "13020          330     0     0     0     0     0     0     0     0     0  ...   \n",
      "6460           100     0     0     0     0     0     0     0     0     0  ...   \n",
      "28405          216     0     0     0     0     0     0     0     0     0  ...   \n",
      "21416          408     0     0     0     0     0     0     0     0     0  ...   \n",
      "2623            78     0     0     0     0     0     0     0     0     0  ...   \n",
      "22148          228     0     0     0     0     0     0     0     0     0  ...   \n",
      "22056          141     0     0     0     0     0     0     0     0     0  ...   \n",
      "17357           78     0     0     0     0     0     0     0     0     0  ...   \n",
      "20463           65     0     0     0     0     0     0     0     0     0  ...   \n",
      "12363          218     0     0     0     0     0     0     0     0     0  ...   \n",
      "22525           50     0     0     0     0     0     0     0     0     0  ...   \n",
      "16983           96     0     0     0     0     0     0     0     0     0  ...   \n",
      "5695           504     0     0     0     0     0     0     0     0     0  ...   \n",
      "8006           375     0     0     0     0     0     0     0     0     0  ...   \n",
      "17745          408     0     0     0     0     0     0     0     0     0  ...   \n",
      "17931          480     0     0     0     0     0     0     0     0     0  ...   \n",
      "13151           40     0     0     0     0     0     0     0     0     0  ...   \n",
      "\n",
      "       9991  9992  9993  9994  9995  9996  9997  9998  9999  10000  \n",
      "17279     0     0     0     0     0     0     0     0     0      0  \n",
      "13079     0     0     0     0     0     0     0     0     0      0  \n",
      "15089     0     0     0     0     0     0     0     0     0      0  \n",
      "14132     0     0     0     0     0     0     0     0     0      0  \n",
      "14554     0     0     0     0     0     0     0     0     0      0  \n",
      "242       0     0     0     0     0     0     0     0     0      0  \n",
      "10916     0     0     0     0     0     0     0     0     0      0  \n",
      "2508      0     0     0     0     0     0     0     0     0      0  \n",
      "20047     0     0     0     0     0     0     0     0     0      0  \n",
      "16254     0     0     0     0     0     0     0     0     0      0  \n",
      "21219     0     0     0     0     0     0     0     0     0      0  \n",
      "16331     0     0     0     0     0     0     0     0     0      0  \n",
      "11397     0     0     0     0     0     0     0     0     0      0  \n",
      "1426      0     0     0     0     0     0     0     0     0      0  \n",
      "18016     0     0     0     0     0     0     0     0     0      0  \n",
      "24495     0     0     0     0     0     0     0     0     0      0  \n",
      "2231      0     0     0     0     0     0     0     0     0      0  \n",
      "7089      0     0     0     0     0     0     0     0     0      0  \n",
      "21644     0     0     0     0     0     0     0     0     0      0  \n",
      "22933     0     0     0     0     0     0     0     0     0      0  \n",
      "22320     0     0     0     0     0     0     0     0     0      0  \n",
      "15963     0     0     0     0     0     0     0     0     0      0  \n",
      "29498     0     0     0     0     0     0     0     0     0      0  \n",
      "21941     0     0     0     0     0     0     0     0     0      0  \n",
      "5084      0     0     0     0     0     0     0     0     0      0  \n",
      "3238      0     0     0     0     0     0     0     0     0      0  \n",
      "13508     0     0     0     0     0     0     0     0     0      0  \n",
      "16158     0     0     0     0     0     0     0     0     0      0  \n",
      "6416      0     0     0     0     0     0     0     0     0      0  \n",
      "19739     0     0     0     0     0     0     0     0     0      0  \n",
      "...     ...   ...   ...   ...   ...   ...   ...   ...   ...    ...  \n",
      "1949      0     0     0     0     0     0     0     0     0      0  \n",
      "20851     0     0     0     0     0     0     0     0     0      0  \n",
      "26760     0     0     0     0     0     0     0     0     0      0  \n",
      "26106     0     0     0     0     0     0     0     0     0      0  \n",
      "12911     0     0     0     0     0     0     0     0     0      0  \n",
      "30547     0     0     0     0     0     0     0     0     0      0  \n",
      "49        0     0     0     0     0     0     0     0     0      0  \n",
      "30760     0     0     0     0     0     0     0     0     0      0  \n",
      "20957     0     0     0     0     0     0     0     0     0      0  \n",
      "25484     0     0     0     0     0     0     0     0     0      0  \n",
      "23557     0     0     0     0     0     0     0     0     0      0  \n",
      "19566     0     0     0     0     0     0     0     0     0      0  \n",
      "22208     0     0     0     0     0     0     0     0     0      1  \n",
      "13020     0     0     0     0     0     0     0     0     0      0  \n",
      "6460      0     0     0     0     0     0     0     0     0      0  \n",
      "28405     0     0     0     0     0     0     0     0     0      0  \n",
      "21416     0     0     0     0     0     0     0     0     0      0  \n",
      "2623      0     0     0     0     0     0     0     0     0      0  \n",
      "22148     0     0     0     0     0     0     0     0     0      0  \n",
      "22056     0     0     0     0     0     0     0     0     0      0  \n",
      "17357     0     0     0     0     0     0     0     0     0      0  \n",
      "20463     0     0     0     0     0     0     0     0     0      0  \n",
      "12363     0     0     0     0     0     0     0     0     0      0  \n",
      "22525     0     0     0     0     0     0     0     0     0      0  \n",
      "16983     0     0     0     0     0     0     0     0     0      0  \n",
      "5695      0     0     0     0     0     0     0     0     0      0  \n",
      "8006      0     0     0     0     0     0     0     0     0      0  \n",
      "17745     0     0     0     0     0     0     0     0     0      0  \n",
      "17931     0     0     0     0     0     0     0     0     0      0  \n",
      "13151     0     0     0     0     0     0     0     0     0      0  \n",
      "\n",
      "[21700 rows x 8724 columns]\n"
     ]
    },
    {
     "name": "stdout",
     "output_type": "stream",
     "text": [
      "[0 0 0 ... 0 0 0]\n",
      "             precision    recall  f1-score   support\n",
      "\n",
      "          0       0.97      1.00      0.99      9041\n",
      "          1       0.00      0.00      0.00       259\n",
      "\n",
      "avg / total       0.95      0.97      0.96      9300\n",
      "\n",
      "Accuracy: 0.9721505376344086\n"
     ]
    },
    {
     "name": "stderr",
     "output_type": "stream",
     "text": [
      "C:\\Users\\carol\\Anaconda3\\lib\\site-packages\\sklearn\\metrics\\classification.py:1135: UndefinedMetricWarning: Precision and F-score are ill-defined and being set to 0.0 in labels with no predicted samples.\n",
      "  'precision', 'predicted', average, warn_for)\n"
     ]
    }
   ],
   "source": [
    "#Start Exercise 2\n",
    "\n",
    "# Drop column B as it is now encoded\n",
    "one_hot = pd.get_dummies(dataframe['zipCode'])\n",
    "dataframe = dataframe.drop('zipCode',axis = 1)\n",
    "\n",
    "# Join the encoded df\n",
    "dataframe = dataframe.join(one_hot)\n",
    "X_train, X_test, y_train, y_test = train_test_split(dataframe.drop(axis=1,columns=['basket','returnLabel','transactionId']),dataframe['returnLabel'], test_size=0.30,random_state=101)\n",
    "print(X_train)\n",
    "logmodel = LogisticRegression()\n",
    "logmodel.fit(X_train,y_train)\n",
    "predictions = logmodel.predict(X_test)\n",
    "print(predictions)\n",
    "print(classification_report(y_test,predictions))\n",
    "print(\"Accuracy:\",accuracy_score(y_test, predictions))\n",
    "\n"
   ]
  }
 ],
 "metadata": {
  "kernelspec": {
   "display_name": "Python 3",
   "language": "python",
   "name": "python3"
  },
  "language_info": {
   "codemirror_mode": {
    "name": "ipython",
    "version": 3
   },
   "file_extension": ".py",
   "mimetype": "text/x-python",
   "name": "python",
   "nbconvert_exporter": "python",
   "pygments_lexer": "ipython3",
   "version": "3.7.0"
  }
 },
 "nbformat": 4,
 "nbformat_minor": 2
}
